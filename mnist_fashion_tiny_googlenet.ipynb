{
 "cells": [
  {
   "cell_type": "markdown",
   "id": "0ddf30b2-86e3-4f8e-a729-8257639e4d32",
   "metadata": {},
   "source": [
    "# Fashion MNIST Dataset\n",
    "#### **Implementing a Tiny GoogLeNet and training it on fashion images**\n",
    "\n",
    "Dataset Source: https://www.kaggle.com/datasets/zalando-research/fashionmnist"
   ]
  },
  {
   "cell_type": "code",
   "execution_count": 1,
   "id": "993adfcd-7074-4b3b-9cbd-aef69b88c850",
   "metadata": {},
   "outputs": [
    {
     "name": "stderr",
     "output_type": "stream",
     "text": [
      "2023-05-03 15:33:53.269914: I tensorflow/stream_executor/platform/default/dso_loader.cc:49] Successfully opened dynamic library libcudart.so.10.1\n"
     ]
    }
   ],
   "source": [
    "# Import Require Libraries\n",
    "import numpy as np\n",
    "import pandas as pd\n",
    "import matplotlib.pyplot as plt\n",
    "import tensorflow as tf"
   ]
  },
  {
   "cell_type": "code",
   "execution_count": 2,
   "id": "47cd8a7e-dda4-4794-8dbc-43f95f50f2b6",
   "metadata": {},
   "outputs": [
    {
     "name": "stderr",
     "output_type": "stream",
     "text": [
      "2023-05-03 15:33:55.516031: I tensorflow/core/platform/cpu_feature_guard.cc:142] This TensorFlow binary is optimized with oneAPI Deep Neural Network Library (oneDNN) to use the following CPU instructions in performance-critical operations:  SSE4.1 SSE4.2 AVX AVX2 FMA\n",
      "To enable them in other operations, rebuild TensorFlow with the appropriate compiler flags.\n",
      "2023-05-03 15:33:55.517090: I tensorflow/compiler/jit/xla_gpu_device.cc:99] Not creating XLA devices, tf_xla_enable_xla_devices not set\n",
      "2023-05-03 15:33:55.518294: I tensorflow/stream_executor/platform/default/dso_loader.cc:49] Successfully opened dynamic library libcuda.so.1\n",
      "2023-05-03 15:33:55.526227: I tensorflow/stream_executor/cuda/cuda_gpu_executor.cc:941] successful NUMA node read from SysFS had negative value (-1), but there must be at least one NUMA node, so returning NUMA node zero\n",
      "2023-05-03 15:33:55.526473: I tensorflow/core/common_runtime/gpu/gpu_device.cc:1720] Found device 0 with properties: \n",
      "pciBusID: 0000:01:00.0 name: NVIDIA GeForce GTX 1650 computeCapability: 7.5\n",
      "coreClock: 1.56GHz coreCount: 16 deviceMemorySize: 3.82GiB deviceMemoryBandwidth: 119.24GiB/s\n",
      "2023-05-03 15:33:55.526515: I tensorflow/stream_executor/platform/default/dso_loader.cc:49] Successfully opened dynamic library libcudart.so.10.1\n",
      "2023-05-03 15:33:55.529461: I tensorflow/stream_executor/platform/default/dso_loader.cc:49] Successfully opened dynamic library libcublas.so.10\n",
      "2023-05-03 15:33:55.529572: I tensorflow/stream_executor/platform/default/dso_loader.cc:49] Successfully opened dynamic library libcublasLt.so.10\n",
      "2023-05-03 15:33:55.546113: I tensorflow/stream_executor/platform/default/dso_loader.cc:49] Successfully opened dynamic library libcufft.so.10\n",
      "2023-05-03 15:33:55.549629: I tensorflow/stream_executor/platform/default/dso_loader.cc:49] Successfully opened dynamic library libcurand.so.10\n",
      "2023-05-03 15:33:55.557362: I tensorflow/stream_executor/platform/default/dso_loader.cc:49] Successfully opened dynamic library libcusolver.so.10\n",
      "2023-05-03 15:33:55.559536: I tensorflow/stream_executor/platform/default/dso_loader.cc:49] Successfully opened dynamic library libcusparse.so.10\n",
      "2023-05-03 15:33:55.567858: I tensorflow/stream_executor/platform/default/dso_loader.cc:49] Successfully opened dynamic library libcudnn.so.7\n",
      "2023-05-03 15:33:55.568122: I tensorflow/stream_executor/cuda/cuda_gpu_executor.cc:941] successful NUMA node read from SysFS had negative value (-1), but there must be at least one NUMA node, so returning NUMA node zero\n",
      "2023-05-03 15:33:55.568523: I tensorflow/stream_executor/cuda/cuda_gpu_executor.cc:941] successful NUMA node read from SysFS had negative value (-1), but there must be at least one NUMA node, so returning NUMA node zero\n",
      "2023-05-03 15:33:55.568738: I tensorflow/core/common_runtime/gpu/gpu_device.cc:1862] Adding visible gpu devices: 0\n",
      "2023-05-03 15:33:55.568857: I tensorflow/stream_executor/platform/default/dso_loader.cc:49] Successfully opened dynamic library libcudart.so.10.1\n",
      "2023-05-03 15:33:56.567332: I tensorflow/core/common_runtime/gpu/gpu_device.cc:1261] Device interconnect StreamExecutor with strength 1 edge matrix:\n",
      "2023-05-03 15:33:56.567381: I tensorflow/core/common_runtime/gpu/gpu_device.cc:1267]      0 \n",
      "2023-05-03 15:33:56.567391: I tensorflow/core/common_runtime/gpu/gpu_device.cc:1280] 0:   N \n",
      "2023-05-03 15:33:56.567732: I tensorflow/stream_executor/cuda/cuda_gpu_executor.cc:941] successful NUMA node read from SysFS had negative value (-1), but there must be at least one NUMA node, so returning NUMA node zero\n",
      "2023-05-03 15:33:56.568109: I tensorflow/stream_executor/cuda/cuda_gpu_executor.cc:941] successful NUMA node read from SysFS had negative value (-1), but there must be at least one NUMA node, so returning NUMA node zero\n",
      "2023-05-03 15:33:56.568595: I tensorflow/stream_executor/cuda/cuda_gpu_executor.cc:941] successful NUMA node read from SysFS had negative value (-1), but there must be at least one NUMA node, so returning NUMA node zero\n",
      "2023-05-03 15:33:56.569005: I tensorflow/core/common_runtime/gpu/gpu_device.cc:1406] Created TensorFlow device (/job:localhost/replica:0/task:0/device:GPU:0 with 1860 MB memory) -> physical GPU (device: 0, name: NVIDIA GeForce GTX 1650, pci bus id: 0000:01:00.0, compute capability: 7.5)\n"
     ]
    }
   ],
   "source": [
    "# GPU Configuration\n",
    "config = tf.compat.v1.ConfigProto()\n",
    "config.gpu_options.allow_growth = True\n",
    "sess = tf.compat.v1.Session(config=config) "
   ]
  },
  {
   "cell_type": "code",
   "execution_count": 4,
   "id": "95a4e7b9-2952-468a-ae10-4443f5dcd5a4",
   "metadata": {},
   "outputs": [],
   "source": [
    "# Extract .zip file of the dataset\n",
    "from zipfile import ZipFile\n",
    "\n",
    "datasetZipPath = './dataset/FashionMNIST.zip'\n",
    "datasetExtractPath = './dataset/'\n",
    "\n",
    "with ZipFile(datasetZipPath, 'r') as zipObj:\n",
    "    zipObj.extractall(path=datasetExtractPath)"
   ]
  },
  {
   "cell_type": "code",
   "execution_count": 5,
   "id": "130fcd0e-f41e-422e-b8b5-0a7e5be5b903",
   "metadata": {},
   "outputs": [],
   "source": [
    "# Load Data\n",
    "trainDataPath = './dataset/fashion-mnist_train.csv'\n",
    "validDataPath = './dataset/fashion-mnist_test.csv'\n",
    "\n",
    "trainData = pd.read_csv(trainDataPath)\n",
    "validData = pd.read_csv(validDataPath)"
   ]
  },
  {
   "cell_type": "code",
   "execution_count": 6,
   "id": "eefa71de-c410-4afa-bf0d-9e17386f9e4f",
   "metadata": {},
   "outputs": [],
   "source": [
    "# One-Hot Encoding Labels\n",
    "from sklearn.preprocessing import OneHotEncoder\n",
    "\n",
    "encoder = OneHotEncoder()\n",
    "y_train = trainData['label'].values.reshape(-1, 1)\n",
    "y_train = encoder.fit_transform(y_train).toarray()\n",
    "y_valid = validData['label'].values.reshape(-1, 1)\n",
    "y_valid = encoder.transform(y_valid).toarray()"
   ]
  },
  {
   "cell_type": "code",
   "execution_count": 7,
   "id": "800b169e-7825-4ca2-9696-09a858426168",
   "metadata": {},
   "outputs": [],
   "source": [
    "# Reshapting X_train, and X_test\n",
    "X_train = trainData.drop('label', axis=1).values.reshape(-1, 28, 28, 1) / 255\n",
    "X_valid = validData.drop('label', axis=1).values.reshape(-1, 28, 28, 1) / 225"
   ]
  },
  {
   "cell_type": "code",
   "execution_count": 9,
   "id": "ceaec25d-ba7a-4564-9e3b-27bccf265aa2",
   "metadata": {},
   "outputs": [],
   "source": [
    "# Importing Required Packages, Libraries, and Functions\n",
    "from tensorflow import keras\n",
    "from tensorflow.keras.models import Sequential\n",
    "from tensorflow.keras import Model\n",
    "from tensorflow.keras.layers import Lambda \n",
    "from tensorflow.keras.layers import Conv2D\n",
    "from tensorflow.keras.layers import Dense\n",
    "from tensorflow.keras.layers import BatchNormalization\n",
    "from tensorflow.keras.layers import Dropout\n",
    "from tensorflow.keras.layers import Flatten\n",
    "from tensorflow.keras.layers import Activation\n",
    "from tensorflow.keras.layers import SeparableConv2D\n",
    "from tensorflow.keras.layers import MaxPooling2D\n",
    "from tensorflow.keras.layers import concatenate\n",
    "from tensorflow.keras.layers import Input\n",
    "from tensorflow.keras.callbacks import ModelCheckpoint\n",
    "from tensorflow.keras.callbacks import EarlyStopping\n",
    "from tensorflow.keras.preprocessing.image import ImageDataGenerator\n",
    "from tensorflow.nn import local_response_normalization"
   ]
  },
  {
   "cell_type": "code",
   "execution_count": 10,
   "id": "b60885e7-2133-463b-a0ea-7128c57a4683",
   "metadata": {},
   "outputs": [],
   "source": [
    "# Creating Inception Module Class\n",
    "class InceptionModude(keras.layers.Layer):\n",
    "    def __init__(self, filters, activation='relu', **kwargs):\n",
    "        super().__init__(**kwargs)\n",
    "        self.normalization = Lambda(local_response_normalization)\n",
    "        self.activation = keras.activations.get(activation)\n",
    "        self.strands = []\n",
    "        self.strands.append([\n",
    "            Conv2D(filters, (1, 1), padding='same'), \n",
    "            self.normalization, \n",
    "            self.activation\n",
    "        ])\n",
    "        self.strands.append([\n",
    "            Conv2D(filters, (1, 1), padding='same'),\n",
    "            self.normalization,\n",
    "            self.activation,\n",
    "            Conv2D(filters, (3, 3), padding='same'),\n",
    "            self.normalization,\n",
    "            self.activation\n",
    "        ])\n",
    "        self.strands.append([\n",
    "            Conv2D(filters, (1, 1), padding='same'),\n",
    "            self.normalization,\n",
    "            self.activation,\n",
    "            Conv2D(filters, (5, 5), padding='same'),\n",
    "            self.normalization,\n",
    "            self.activation\n",
    "        ])\n",
    "        self.strands.append([\n",
    "            MaxPooling2D((3, 3), padding='same'),\n",
    "            Conv2D(filters, (1, 1), padding='same'),\n",
    "            self.normalization,\n",
    "            self.activation\n",
    "        ])\n",
    "    \n",
    "    def call(self, inputs):\n",
    "        output1, output2, output3, output4 = [inputs] * 4\n",
    "        outputs = [output1, output2, output3, output4]\n",
    "        for output, strand in zip(outputs, self.strands):\n",
    "            for layer in strand:\n",
    "                output = layer(output)\n",
    "        return concatenate([output1, output2, output3, output4], axis=-1)\n",
    "    \n",
    "    def get_config(self):\n",
    "        base_config = super().get_config()\n",
    "        return {**base_config}"
   ]
  },
  {
   "cell_type": "code",
   "execution_count": 11,
   "id": "39023a54-fbfa-433a-880f-25e9cfc50dc4",
   "metadata": {},
   "outputs": [],
   "source": [
    "def inceptionModule(prevLayer, \n",
    "                    filters_1by1, \n",
    "                    filters_3by3_reduced, \n",
    "                    filters_3by3, \n",
    "                    filters_5by5_reduced, \n",
    "                    filters_5by5, \n",
    "                    filters_pool_proj):\n",
    "    # conv_1by1 = Conv2D(filters_1by1, (1, 1), padding='same', activation='relu')(prevLayer)\n",
    "    \n",
    "    conv_3by3 = Conv2D(filters_3by3_reduced, (1, 1), padding='same', activation='relu')(prevLayer)\n",
    "    conv_3by3 = Conv2D(filters_3by3, (3, 3), padding='same', activation='relu')(conv_3by3)\n",
    "    \n",
    "    conv_5by5 = Conv2D(filters_5by5_reduced, (1, 1), padding='same', activation='relu')(prevLayer)\n",
    "    conv_5by5 = Conv2D(filters_5by5, (5, 5), padding='same', activation='relu')(conv_5by5)\n",
    "    \n",
    "    # pool_proj = MaxPooling2D((3, 3), strides=(1, 1), padding='same')(prevLayer)\n",
    "    # pool_proj = Conv2D(filters_pool_proj, (1, 1), padding='same', activation='relu')(pool_proj)\n",
    "    \n",
    "    # output = concatenate([conv_1by1, conv_3by3, conv_5by5, pool_proj], axis=-1)\n",
    "    output = concatenate([conv_3by3, conv_5by5], axis=-1)\n",
    "    return output"
   ]
  },
  {
   "cell_type": "code",
   "execution_count": 16,
   "id": "d41d8241-2c77-4a1b-8c1d-12a9bcda4834",
   "metadata": {},
   "outputs": [],
   "source": [
    "# Creating Model\n",
    "inputs = Input(shape=(28, 28, 1))\n",
    "\n",
    "X = Conv2D(16, (3, 3), padding='same')(inputs)\n",
    "X = Lambda(local_response_normalization)(X)\n",
    "X = Activation('relu')(X)\n",
    "\n",
    "X = Dropout(rate=0.25)(X)\n",
    "X = inceptionModule(X, 16, 16, 16, 16, 16, 16)\n",
    "X = Lambda(local_response_normalization)(X)\n",
    "\n",
    "X = MaxPooling2D(strides=(2, 2), padding='same')(X)\n",
    "\n",
    "X = Dropout(rate=0.25)(X)\n",
    "X = inceptionModule(X, 32, 32, 32, 32, 32, 32)\n",
    "X = Lambda(local_response_normalization)(X)\n",
    "\n",
    "X = MaxPooling2D(strides=(2, 2), padding='same')(X)\n",
    "\n",
    "X = Dropout(rate=0.25)(X)\n",
    "X = inceptionModule(X, 64, 64, 64, 64, 64, 64)\n",
    "X = Lambda(local_response_normalization)(X)\n",
    "\n",
    "X = MaxPooling2D(strides=(2, 2), padding='same')(X)\n",
    "\n",
    "X = Dropout(rate=0.25)(X)\n",
    "X = inceptionModule(X, 128, 128, 128, 128, 128, 128)\n",
    "X = Lambda(local_response_normalization)(X)\n",
    "\n",
    "X = MaxPooling2D(strides=(2, 2), padding='same')(X)\n",
    "\n",
    "X = Flatten()(X)\n",
    "\n",
    "X = Dense(250, activation='relu')(X)\n",
    "X = BatchNormalization()(X)\n",
    "X = Dropout(rate=0.35)(X)\n",
    "\n",
    "outputs = Dense(10, activation='relu')(X)\n",
    "\n",
    "model = Model(inputs=inputs, outputs=outputs)\n",
    "\n",
    "# Compiling the model\n",
    "model.compile(loss='categorical_crossentropy', metrics=['accuracy'])"
   ]
  },
  {
   "cell_type": "code",
   "execution_count": 15,
   "id": "63ad6b94-49b4-46f6-9880-a0443b4abe91",
   "metadata": {},
   "outputs": [
    {
     "name": "stdout",
     "output_type": "stream",
     "text": [
      "Model: \"model\"\n",
      "__________________________________________________________________________________________________\n",
      "Layer (type)                    Output Shape         Param #     Connected to                     \n",
      "==================================================================================================\n",
      "input_1 (InputLayer)            [(None, 28, 28, 1)]  0                                            \n",
      "__________________________________________________________________________________________________\n",
      "conv2d (Conv2D)                 (None, 28, 28, 16)   160         input_1[0][0]                    \n",
      "__________________________________________________________________________________________________\n",
      "lambda (Lambda)                 (None, 28, 28, 16)   0           conv2d[0][0]                     \n",
      "__________________________________________________________________________________________________\n",
      "activation (Activation)         (None, 28, 28, 16)   0           lambda[0][0]                     \n",
      "__________________________________________________________________________________________________\n",
      "dropout (Dropout)               (None, 28, 28, 16)   0           activation[0][0]                 \n",
      "__________________________________________________________________________________________________\n",
      "conv2d_1 (Conv2D)               (None, 28, 28, 16)   272         dropout[0][0]                    \n",
      "__________________________________________________________________________________________________\n",
      "conv2d_3 (Conv2D)               (None, 28, 28, 16)   272         dropout[0][0]                    \n",
      "__________________________________________________________________________________________________\n",
      "conv2d_2 (Conv2D)               (None, 28, 28, 16)   2320        conv2d_1[0][0]                   \n",
      "__________________________________________________________________________________________________\n",
      "conv2d_4 (Conv2D)               (None, 28, 28, 16)   6416        conv2d_3[0][0]                   \n",
      "__________________________________________________________________________________________________\n",
      "concatenate (Concatenate)       (None, 28, 28, 32)   0           conv2d_2[0][0]                   \n",
      "                                                                 conv2d_4[0][0]                   \n",
      "__________________________________________________________________________________________________\n",
      "lambda_1 (Lambda)               (None, 28, 28, 32)   0           concatenate[0][0]                \n",
      "__________________________________________________________________________________________________\n",
      "max_pooling2d (MaxPooling2D)    (None, 14, 14, 32)   0           lambda_1[0][0]                   \n",
      "__________________________________________________________________________________________________\n",
      "dropout_1 (Dropout)             (None, 14, 14, 32)   0           max_pooling2d[0][0]              \n",
      "__________________________________________________________________________________________________\n",
      "conv2d_5 (Conv2D)               (None, 14, 14, 32)   1056        dropout_1[0][0]                  \n",
      "__________________________________________________________________________________________________\n",
      "conv2d_7 (Conv2D)               (None, 14, 14, 32)   1056        dropout_1[0][0]                  \n",
      "__________________________________________________________________________________________________\n",
      "conv2d_6 (Conv2D)               (None, 14, 14, 32)   9248        conv2d_5[0][0]                   \n",
      "__________________________________________________________________________________________________\n",
      "conv2d_8 (Conv2D)               (None, 14, 14, 32)   25632       conv2d_7[0][0]                   \n",
      "__________________________________________________________________________________________________\n",
      "concatenate_1 (Concatenate)     (None, 14, 14, 64)   0           conv2d_6[0][0]                   \n",
      "                                                                 conv2d_8[0][0]                   \n",
      "__________________________________________________________________________________________________\n",
      "lambda_2 (Lambda)               (None, 14, 14, 64)   0           concatenate_1[0][0]              \n",
      "__________________________________________________________________________________________________\n",
      "max_pooling2d_1 (MaxPooling2D)  (None, 7, 7, 64)     0           lambda_2[0][0]                   \n",
      "__________________________________________________________________________________________________\n",
      "dropout_2 (Dropout)             (None, 7, 7, 64)     0           max_pooling2d_1[0][0]            \n",
      "__________________________________________________________________________________________________\n",
      "conv2d_9 (Conv2D)               (None, 7, 7, 64)     4160        dropout_2[0][0]                  \n",
      "__________________________________________________________________________________________________\n",
      "conv2d_11 (Conv2D)              (None, 7, 7, 64)     4160        dropout_2[0][0]                  \n",
      "__________________________________________________________________________________________________\n",
      "conv2d_10 (Conv2D)              (None, 7, 7, 64)     36928       conv2d_9[0][0]                   \n",
      "__________________________________________________________________________________________________\n",
      "conv2d_12 (Conv2D)              (None, 7, 7, 64)     102464      conv2d_11[0][0]                  \n",
      "__________________________________________________________________________________________________\n",
      "concatenate_2 (Concatenate)     (None, 7, 7, 128)    0           conv2d_10[0][0]                  \n",
      "                                                                 conv2d_12[0][0]                  \n",
      "__________________________________________________________________________________________________\n",
      "lambda_3 (Lambda)               (None, 7, 7, 128)    0           concatenate_2[0][0]              \n",
      "__________________________________________________________________________________________________\n",
      "max_pooling2d_2 (MaxPooling2D)  (None, 4, 4, 128)    0           lambda_3[0][0]                   \n",
      "__________________________________________________________________________________________________\n",
      "dropout_3 (Dropout)             (None, 4, 4, 128)    0           max_pooling2d_2[0][0]            \n",
      "__________________________________________________________________________________________________\n",
      "conv2d_13 (Conv2D)              (None, 4, 4, 128)    16512       dropout_3[0][0]                  \n",
      "__________________________________________________________________________________________________\n",
      "conv2d_15 (Conv2D)              (None, 4, 4, 128)    16512       dropout_3[0][0]                  \n",
      "__________________________________________________________________________________________________\n",
      "conv2d_14 (Conv2D)              (None, 4, 4, 128)    147584      conv2d_13[0][0]                  \n",
      "__________________________________________________________________________________________________\n",
      "conv2d_16 (Conv2D)              (None, 4, 4, 128)    409728      conv2d_15[0][0]                  \n",
      "__________________________________________________________________________________________________\n",
      "concatenate_3 (Concatenate)     (None, 4, 4, 256)    0           conv2d_14[0][0]                  \n",
      "                                                                 conv2d_16[0][0]                  \n",
      "__________________________________________________________________________________________________\n",
      "lambda_4 (Lambda)               (None, 4, 4, 256)    0           concatenate_3[0][0]              \n",
      "__________________________________________________________________________________________________\n",
      "max_pooling2d_3 (MaxPooling2D)  (None, 2, 2, 256)    0           lambda_4[0][0]                   \n",
      "__________________________________________________________________________________________________\n",
      "flatten (Flatten)               (None, 1024)         0           max_pooling2d_3[0][0]            \n",
      "__________________________________________________________________________________________________\n",
      "dense (Dense)                   (None, 250)          256250      flatten[0][0]                    \n",
      "__________________________________________________________________________________________________\n",
      "batch_normalization (BatchNorma (None, 250)          1000        dense[0][0]                      \n",
      "__________________________________________________________________________________________________\n",
      "dropout_4 (Dropout)             (None, 250)          0           batch_normalization[0][0]        \n",
      "__________________________________________________________________________________________________\n",
      "dense_1 (Dense)                 (None, 10)           2510        dropout_4[0][0]                  \n",
      "==================================================================================================\n",
      "Total params: 1,044,240\n",
      "Trainable params: 1,043,740\n",
      "Non-trainable params: 500\n",
      "__________________________________________________________________________________________________\n"
     ]
    }
   ],
   "source": [
    "# Model Info.\n",
    "model.summary()"
   ]
  },
  {
   "cell_type": "code",
   "execution_count": 18,
   "id": "c9d49e0f-67db-4e99-a2c3-646ebc4bd312",
   "metadata": {},
   "outputs": [
    {
     "name": "stdout",
     "output_type": "stream",
     "text": [
      "Epoch 1/50\n",
      "   7/1875 [..............................] - ETA: 33s - loss: nan - accuracy: 0.7768 "
     ]
    },
    {
     "name": "stderr",
     "output_type": "stream",
     "text": [
      "2023-05-03 15:57:37.316160: W tensorflow/core/framework/cpu_allocator_impl.cc:80] Allocation of 188160000 exceeds 10% of free system memory.\n"
     ]
    },
    {
     "name": "stdout",
     "output_type": "stream",
     "text": [
      "1875/1875 [==============================] - 31s 17ms/step - loss: nan - accuracy: 0.8181 - val_loss: 0.6394 - val_accuracy: 0.8489\n",
      "Epoch 2/50\n",
      "1875/1875 [==============================] - 32s 17ms/step - loss: nan - accuracy: 0.8259 - val_loss: nan - val_accuracy: 0.8247\n",
      "Epoch 3/50\n",
      "1875/1875 [==============================] - 31s 17ms/step - loss: nan - accuracy: 0.8145 - val_loss: nan - val_accuracy: 0.8677\n",
      "Epoch 4/50\n",
      "1875/1875 [==============================] - 31s 17ms/step - loss: nan - accuracy: 0.8146 - val_loss: nan - val_accuracy: 0.8799\n",
      "Epoch 5/50\n",
      "1875/1875 [==============================] - 31s 17ms/step - loss: nan - accuracy: 0.8170 - val_loss: nan - val_accuracy: 0.8761\n",
      "Epoch 6/50\n",
      "1875/1875 [==============================] - 32s 17ms/step - loss: nan - accuracy: 0.8013 - val_loss: nan - val_accuracy: 0.8712\n",
      "Epoch 7/50\n",
      "1875/1875 [==============================] - 32s 17ms/step - loss: nan - accuracy: 0.8281 - val_loss: nan - val_accuracy: 0.8852\n",
      "Epoch 8/50\n",
      "1875/1875 [==============================] - 32s 17ms/step - loss: nan - accuracy: 0.8087 - val_loss: nan - val_accuracy: 0.8870\n",
      "Epoch 9/50\n",
      "1875/1875 [==============================] - 32s 17ms/step - loss: nan - accuracy: 0.8135 - val_loss: nan - val_accuracy: 0.8803\n",
      "Epoch 10/50\n",
      "1875/1875 [==============================] - 32s 17ms/step - loss: nan - accuracy: 0.8198 - val_loss: nan - val_accuracy: 0.8682\n",
      "Epoch 11/50\n",
      "1875/1875 [==============================] - 32s 17ms/step - loss: nan - accuracy: 0.8126 - val_loss: nan - val_accuracy: 0.8600\n",
      "Epoch 12/50\n",
      "1875/1875 [==============================] - 32s 17ms/step - loss: nan - accuracy: 0.8175 - val_loss: nan - val_accuracy: 0.8864\n",
      "Epoch 13/50\n",
      "1875/1875 [==============================] - 32s 17ms/step - loss: nan - accuracy: 0.8160 - val_loss: nan - val_accuracy: 0.8776\n",
      "Epoch 14/50\n",
      "1875/1875 [==============================] - 32s 17ms/step - loss: nan - accuracy: 0.8359 - val_loss: nan - val_accuracy: 0.8912\n",
      "Epoch 15/50\n",
      "1875/1875 [==============================] - 32s 17ms/step - loss: nan - accuracy: 0.8386 - val_loss: nan - val_accuracy: 0.8954\n"
     ]
    }
   ],
   "source": [
    "# Setting Checkpoints\n",
    "checkpoint = ModelCheckpoint('./trained_model/model_inception.h5', save_best_only=True)\n",
    "earlyStopping = EarlyStopping(patience=14, restore_best_weights=True)\n",
    "\n",
    "# Training\n",
    "history = model.fit(X_train, y_train, epochs=50, \n",
    "                    validation_data=(X_valid, y_valid), \n",
    "                    callbacks=[checkpoint, earlyStopping])"
   ]
  },
  {
   "cell_type": "code",
   "execution_count": 19,
   "id": "2e9157db-2b98-4b17-9c06-eee5a98bd97f",
   "metadata": {},
   "outputs": [
    {
     "data": {
      "image/png": "[encoded data removed]",
      "text/plain": [
       "<Figure size 1500x900 with 1 Axes>"
      ]
     },
     "metadata": {},
     "output_type": "display_data"
    }
   ],
   "source": [
    "# Plotting Learning Curves\n",
    "def plot_learning_curves(history, figsize=(15, 9)):\n",
    "    plt.figure(figsize=figsize)\n",
    "    history_pd = pd.DataFrame(history.history)\n",
    "    plt.plot(history_pd, label=['loss', 'accuracy', 'val_loss', 'val_accuracy'], linewidth=3)\n",
    "    plt.gca().set_ylim(0, 1)\n",
    "    plt.gca().set_xlim(0, len(history_pd) - 1)\n",
    "    plt.xlabel('Epoch', fontsize='x-large')\n",
    "    plt.ylabel('Loss', fontsize='x-large')\n",
    "    plt.legend(fontsize='x-large', loc=1)\n",
    "    plt.savefig('./learning_curves.png')\n",
    "    plt.grid(True)\n",
    "    plt.show()\n",
    "\n",
    "plot_learning_curves(history)"
   ]
  }
 ],
 "metadata": {
  "kernelspec": {
   "display_name": "Python [conda env:tensorflow] *",
   "language": "python",
   "name": "conda-env-tensorflow-py"
  },
  "language_info": {
   "codemirror_mode": {
    "name": "ipython",
    "version": 3
   },
   "file_extension": ".py",
   "mimetype": "text/x-python",
   "name": "python",
   "nbconvert_exporter": "python",
   "pygments_lexer": "ipython3",
   "version": "3.9.16"
  }
 },
 "nbformat": 4,
 "nbformat_minor": 5
}
